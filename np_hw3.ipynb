{
 "cells": [
  {
   "cell_type": "markdown",
   "metadata": {},
   "source": []
  },
  {
   "cell_type": "code",
   "execution_count": 4,
   "metadata": {},
   "outputs": [
    {
     "name": "stdout",
     "output_type": "stream",
     "text": [
      "Размер X_train: (309, 10)\n",
      "Размер X_test: (133, 10)\n",
      "Размер y_train: (309,)\n",
      "Размер y_test: (133,)\n"
     ]
    }
   ],
   "source": [
    "import pandas as pd\n",
    "import numpy as np\n",
    "from sklearn.datasets import load_diabetes\n",
    "from sklearn.model_selection import train_test_split\n",
    "\n",
    "# Загрузка набора данных Diabetes\n",
    "diabetes = load_diabetes()\n",
    "diabetes_df = pd.DataFrame(diabetes.data, columns=diabetes.feature_names)\n",
    "diabetes_df['target'] = diabetes.target\n",
    "\n",
    "# Разделение данных на признаки (X) и целевую переменную (y)\n",
    "X = diabetes_df.drop('target', axis=1)\n",
    "y = diabetes_df['target']\n",
    "\n",
    "# Разделение на тренировочный и тестовый наборы с размером тестовой выборки 30%\n",
    "X_train, X_test, y_train, y_test = train_test_split(\n",
    "    X, y, test_size=0.3, random_state=42\n",
    ")\n",
    "\n",
    "# Теперь у вас есть:\n",
    "# - X_train: тренировочные данные (признаки)\n",
    "# - y_train: тренировочные данные (целевая переменная)\n",
    "# - X_test: тестовые данные (признаки)\n",
    "# - y_test: тестовые данные (целевая переменная)\n",
    "\n",
    "print(\"Размер X_train:\", X_train.shape)\n",
    "print(\"Размер X_test:\", X_test.shape)\n",
    "print(\"Размер y_train:\", y_train.shape)\n",
    "print(\"Размер y_test:\", y_test.shape)\n"
   ]
  },
  {
   "cell_type": "markdown",
   "metadata": {},
   "source": [
    "Создайте модель линейной регрессии под названием lr с помощью класса LinearRegression из модуля\n",
    "sklearn.linear_model"
   ]
  },
  {
   "cell_type": "code",
   "execution_count": 5,
   "metadata": {},
   "outputs": [],
   "source": [
    "from sklearn.linear_model import LinearRegression\n",
    "\n",
    "# Создание модели линейной регрессии\n",
    "lr = LinearRegression()\n"
   ]
  },
  {
   "cell_type": "code",
   "execution_count": 8,
   "metadata": {},
   "outputs": [
    {
     "data": {
      "text/plain": [
       "array([138.46970031, 181.10052342, 125.34400904, 292.75977277,\n",
       "       123.8830531 ,  91.89830434, 257.26463123, 177.76169318,\n",
       "        84.98549706, 109.15960992,  94.4855284 , 166.13235108,\n",
       "        57.40742502, 206.13897354,  97.7811842 , 131.00472765,\n",
       "       214.29789972, 252.52907661, 199.66656381, 219.49985634,\n",
       "       203.23671317,  88.00656925,  70.65108459, 186.92233427,\n",
       "       155.81266751, 162.81022205, 191.93135706, 184.72924276,\n",
       "        46.62920829, 108.26566599, 178.14743952,  91.35065005,\n",
       "       127.72125745, 184.04205666, 172.23799897, 189.51548863,\n",
       "       121.83265708, 117.75339206, 145.67950306,  58.57563401,\n",
       "        72.55421321, 107.27571105, 166.15280313, 153.29339984,\n",
       "       165.19282154,  62.95752038,  73.58909449, 110.05656189,\n",
       "        54.49723354, 164.88920632, 152.49472803,  63.8874565 ,\n",
       "       111.4354561 , 108.34936269, 179.96973311, 158.70054112,\n",
       "        95.04833555, 209.68990406, 118.37356519,  69.69946093,\n",
       "       189.04680627, 204.99138626, 140.26840176, 105.75963198,\n",
       "       131.22316354, 201.65649349, 173.60251683, 164.25810664,\n",
       "       122.01567481, 143.53425629, 179.42286037, 201.32086534,\n",
       "       234.50804093, 146.96093984,  80.27567403, 160.86822173,\n",
       "       192.72110552, 208.6585054 , 158.56823462, 206.00933474,\n",
       "       111.53729194, 140.28763033,  51.15323818,  54.76434639,\n",
       "       113.02207773,  78.46425825,  80.20416459,  56.97774667,\n",
       "       168.51207071, 185.55749267, 152.33436369, 242.66080008,\n",
       "       106.44250735,  61.34968205,  53.44975218, 197.78538801,\n",
       "       246.62420102, 185.25237675, 105.80114548,  62.42547543,\n",
       "       193.39002547, 107.08821595, 297.08578592,  94.45306615,\n",
       "       148.41869832, 104.10666888, 128.66940497, 126.90012169,\n",
       "       165.84858396, 186.14546255, 108.5888133 , 203.83170771,\n",
       "       204.97622269, 209.10156998, 191.65509488, 161.26918179,\n",
       "       148.51075431, 135.0455994 , 111.74197539, 163.62966339,\n",
       "       170.55301782,  95.53608319,  46.85961143, 164.34533761,\n",
       "       127.1747026 , 176.61035076, 173.47305611, 107.40153597,\n",
       "       202.99778708,  92.10100436, 122.28876806,  80.80866991,\n",
       "       233.21870492])"
      ]
     },
     "execution_count": 8,
     "metadata": {},
     "output_type": "execute_result"
    }
   ],
   "source": [
    "# Обучение модели на тренировочных данных\n",
    "lr.fit(X_train, y_train)\n",
    "\n",
    "# Предсказание на тестовых данных\n",
    "y_pred = lr.predict(X_test)\n",
    "y_pred"
   ]
  },
  {
   "cell_type": "markdown",
   "metadata": {},
   "source": [
    "Задание 2\n",
    "Создайте модель под названием model с помощью класса RandomForestRegressor из модуля sklearn.ensemble \n",
    "Сделайте агрумент n_estimators равным 1000, max_depth должен быть равен 12 и random_state сделайте равным 42.\n",
    "\n"
   ]
  },
  {
   "cell_type": "code",
   "execution_count": 9,
   "metadata": {},
   "outputs": [],
   "source": [
    "from sklearn.ensemble import RandomForestRegressor\n",
    "\n",
    "\n",
    "# Создание модели случайного леса с заданными параметрами\n",
    "model = RandomForestRegressor(n_estimators=1000, max_depth=12, random_state=42)\n"
   ]
  }
 ],
 "metadata": {
  "kernelspec": {
   "display_name": "Python 3.8.10 64-bit",
   "language": "python",
   "name": "python3"
  },
  "language_info": {
   "codemirror_mode": {
    "name": "ipython",
    "version": 3
   },
   "file_extension": ".py",
   "mimetype": "text/x-python",
   "name": "python",
   "nbconvert_exporter": "python",
   "pygments_lexer": "ipython3",
   "version": "3.8.10"
  },
  "orig_nbformat": 4,
  "vscode": {
   "interpreter": {
    "hash": "570feb405e2e27c949193ac68f46852414290d515b0ba6e5d90d076ed2284471"
   }
  }
 },
 "nbformat": 4,
 "nbformat_minor": 2
}
