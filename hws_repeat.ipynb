{
 "cells": [
  {
   "cell_type": "markdown",
   "metadata": {},
   "source": [
    "Создать одномерный массив Numpy под названием a из 12 последовательных целых чисел\n",
    "чисел от 12 до 24 невключительно"
   ]
  },
  {
   "cell_type": "code",
   "execution_count": 1,
   "metadata": {},
   "outputs": [],
   "source": [
    "import numpy as np"
   ]
  },
  {
   "cell_type": "code",
   "execution_count": 7,
   "metadata": {},
   "outputs": [
    {
     "data": {
      "text/plain": [
       "array([12, 13, 14, 15, 16, 17, 18, 19, 20, 21, 22, 23])"
      ]
     },
     "execution_count": 7,
     "metadata": {},
     "output_type": "execute_result"
    }
   ],
   "source": [
    "a =  np.arange(12,24)\n",
    "a"
   ]
  },
  {
   "cell_type": "markdown",
   "metadata": {},
   "source": [
    "Создать 5 двумерных массивов разной формы из массива a. Не использовать в аргументах\n",
    "метода reshape число -1.\n"
   ]
  },
  {
   "cell_type": "code",
   "execution_count": 8,
   "metadata": {},
   "outputs": [
    {
     "name": "stdout",
     "output_type": "stream",
     "text": [
      "Массив a: [12 13 14 15 16 17 18 19 20 21 22 23]\n",
      "Массив b1 (3, 4):\n",
      " [[12 13 14 15]\n",
      " [16 17 18 19]\n",
      " [20 21 22 23]]\n",
      "Массив b2 (2, 6):\n",
      " [[12 13 14 15 16 17]\n",
      " [18 19 20 21 22 23]]\n",
      "Массив b3 (4, 3):\n",
      " [[12 13 14]\n",
      " [15 16 17]\n",
      " [18 19 20]\n",
      " [21 22 23]]\n",
      "Массив b4 (6, 2):\n",
      " [[12 13]\n",
      " [14 15]\n",
      " [16 17]\n",
      " [18 19]\n",
      " [20 21]\n",
      " [22 23]]\n",
      "Массив b5 (12, 1):\n",
      " [[12]\n",
      " [13]\n",
      " [14]\n",
      " [15]\n",
      " [16]\n",
      " [17]\n",
      " [18]\n",
      " [19]\n",
      " [20]\n",
      " [21]\n",
      " [22]\n",
      " [23]]\n"
     ]
    }
   ],
   "source": [
    "# 1. Форма (3, 4)\n",
    "b1 = a.reshape((3, 4))\n",
    "\n",
    "# 2. Форма (2, 6)\n",
    "b2 = a.reshape((2, 6))\n",
    "\n",
    "# 3. Форма (4, 3)\n",
    "b3 = a.reshape((4, 3))\n",
    "\n",
    "# 4. Форма (6, 2)\n",
    "b4 = a.reshape((6, 2))\n",
    "\n",
    "# 5. Форма (12, 1)\n",
    "b5 = a.reshape((12, 1))\n",
    "print(\"Массив a:\", a)\n",
    "print(\"Массив b1 (3, 4):\\n\", b1)\n",
    "print(\"Массив b2 (2, 6):\\n\", b2)\n",
    "print(\"Массив b3 (4, 3):\\n\", b3)\n",
    "print(\"Массив b4 (6, 2):\\n\", b4)\n",
    "print(\"Массив b5 (12, 1):\\n\", b5)\n"
   ]
  },
  {
   "cell_type": "markdown",
   "metadata": {},
   "source": [
    " Можно ли массив Numpy, состоящий из одного столбца и 12 строк, назвать одномерным?\n",
    "    нет"
   ]
  },
  {
   "cell_type": "markdown",
   "metadata": {},
   "source": [
    "Создать массив из 3 строк и 4 столбцов, состоящий из случайных чисел с плавающей запятой\n",
    "из нормального распределения со средним, равным 0 и среднеквадратичным отклонением,\n",
    "равным 1.0. Получить из этого массива одномерный массив с таким же атрибутом size, как и\n",
    "исходный массив.\n"
   ]
  },
  {
   "cell_type": "code",
   "execution_count": 9,
   "metadata": {},
   "outputs": [
    {
     "data": {
      "text/plain": [
       "array([[-0.80042897,  0.5760495 ,  0.52687275, -1.47684458],\n",
       "       [ 0.75803372,  1.04369768,  0.18662186, -1.04475332],\n",
       "       [ 0.08495815,  0.59838161, -1.13439841, -0.3354854 ]])"
      ]
     },
     "execution_count": 9,
     "metadata": {},
     "output_type": "execute_result"
    }
   ],
   "source": [
    "# Создание массива 3x4 с случайными числами из нормального распределения\n",
    "arr_2d = np.random.randn(3, 4)  # среднее 0, стандартное отклонение 1.0\n",
    "arr_2d"
   ]
  },
  {
   "cell_type": "code",
   "execution_count": 14,
   "metadata": {},
   "outputs": [
    {
     "name": "stdout",
     "output_type": "stream",
     "text": [
      "Размер двумерного массива: (3, 4)\n",
      "Размер одномерного массива: (12,)\n",
      "Двумерный массив:\n",
      " [[ 0.62355828 -0.29624192 -0.88442818 -1.6875306 ]\n",
      " [ 0.33849204 -0.05110389 -1.63840502 -1.43477459]\n",
      " [ 0.13830966 -0.90243901 -2.49503048 -0.17280513]]\n",
      "Одномерный массив:\n",
      " [ 0.62355828 -0.29624192 -0.88442818 -1.6875306   0.33849204 -0.05110389\n",
      " -1.63840502 -1.43477459  0.13830966 -0.90243901 -2.49503048 -0.17280513]\n"
     ]
    }
   ],
   "source": [
    "# Преобразование в одномерный массив с таким же количеством элементов\n",
    "arr_1d = arr_2d.flatten()\n"
   ]
  },
  {
   "cell_type": "markdown",
   "metadata": {},
   "source": [
    "Создать массив a, состоящий из целых чисел, убывающих от 20 до 0 невключительно с\n",
    "интервалом 2.\n"
   ]
  },
  {
   "cell_type": "code",
   "execution_count": 10,
   "metadata": {},
   "outputs": [
    {
     "data": {
      "text/plain": [
       "array([20, 18, 16, 14, 12, 10,  8,  6,  4,  2])"
      ]
     },
     "execution_count": 10,
     "metadata": {},
     "output_type": "execute_result"
    }
   ],
   "source": [
    "a = np.arange(20, 0, -2)\n",
    "a"
   ]
  },
  {
   "cell_type": "markdown",
   "metadata": {},
   "source": [
    "Создать массив b, состоящий из 1 строки и 10 столбцов: целых чисел, убывающих от 20 до 1\n",
    "невключительно с интервалом 2. В чем разница между массивами a и b?\n",
    "- Массив `a`:  \n",
    "    - Размерность: Одномерный (1 ось).\n",
    "    - Форма: (10,) - 10 элементов в одной строке.\n",
    "    - Данные:  [20 18 16 14 12 10  8  6  4  2] \n",
    "\n",
    "- Массив `b`:\n",
    "    - Размерность: Двумерный (2 оси).\n",
    "    - Форма: (1, 10) - 1 строка, 10 столбцов.\n",
    "    - Данные:  [[20 18 16 14 12 10  8  6  4  2]] \n"
   ]
  },
  {
   "cell_type": "code",
   "execution_count": 11,
   "metadata": {},
   "outputs": [],
   "source": [
    "b = np.arange(20, 1, -2).reshape(1, 10)"
   ]
  },
  {
   "cell_type": "markdown",
   "metadata": {},
   "source": [
    "Вертикально соединить массивы a и b. a - двумерный массив из нулей, число строк которого\n",
    "больше 1 и на 1 меньше, чем число строк двумерного массива b, состоящего из единиц.\n",
    "Итоговый массив v должен иметь атрибут size, равный 10.\n"
   ]
  },
  {
   "cell_type": "code",
   "execution_count": 12,
   "metadata": {},
   "outputs": [
    {
     "data": {
      "text/plain": [
       "array([[20, 18, 16, 14, 12, 10,  8,  6,  4,  2],\n",
       "       [20, 18, 16, 14, 12, 10,  8,  6,  4,  2]])"
      ]
     },
     "execution_count": 12,
     "metadata": {},
     "output_type": "execute_result"
    }
   ],
   "source": [
    "# Вертикально соединяем массивы\n",
    "# Вертикальное соединение a и b\n",
    "v = np.concatenate((a.reshape(1, -1), b), axis=0)\n",
    "\n",
    "v"
   ]
  },
  {
   "cell_type": "markdown",
   "metadata": {},
   "source": [
    "Создать одномерный массив а, состоящий из последовательности целых чисел от 0 до 12.\n",
    "Поменять форму этого массива, чтобы получилась матрица A (двумерный массив Numpy),состоящая из 4 строк и 3 столбцов\n",
    "Получить матрицу At путем транспонирования матрицы A.\n",
    "Получить матрицу B, умножив матрицу A на матрицу At с помощью матричного умножения.\n",
    "Получится ли вычислить обратную матрицу для матрицы B \n",
    "\n",
    "\n"
   ]
  },
  {
   "cell_type": "code",
   "execution_count": 13,
   "metadata": {},
   "outputs": [
    {
     "name": "stdout",
     "output_type": "stream",
     "text": [
      "[[ 0  1  2]\n",
      " [ 3  4  5]\n",
      " [ 6  7  8]\n",
      " [ 9 10 11]]\n",
      "[[ 0  3  6  9]\n",
      " [ 1  4  7 10]\n",
      " [ 2  5  8 11]]\n",
      "[[  5  14  23  32]\n",
      " [ 14  50  86 122]\n",
      " [ 23  86 149 212]\n",
      " [ 32 122 212 302]]\n",
      "0.0\n"
     ]
    }
   ],
   "source": [
    "a = np.arange(12)\n",
    "A = a.reshape(4, 3)  # Преобразуем его в матрицу 4x3\n",
    "print(A)\n",
    "At = A.T  # Транспонируем матрицу A\n",
    "print(At)\n",
    "B = np.dot(A, At)  # Матричное умножение A на At\n",
    "print(B)\n",
    "determinant = np.linalg.det(B)\n",
    "print(determinant) # так как равно 0 но не получ обратная матрица\n"
   ]
  },
  {
   "cell_type": "code",
   "execution_count": 14,
   "metadata": {},
   "outputs": [
    {
     "name": "stdout",
     "output_type": "stream",
     "text": [
      "[0.37454012 0.95071431 0.73199394 0.59865848 0.15601864]\n"
     ]
    }
   ],
   "source": [
    "# Инициализация генератора случайных чисел с seed = 42\n",
    "np.random.seed(42)\n",
    "\n",
    "# Теперь вы можете использовать np.random для генерации случайных чисел\n",
    "random_numbers = np.random.rand(5)  # 5 случайных чисел от 0 до 1\n",
    "\n",
    "print(random_numbers)"
   ]
  },
  {
   "cell_type": "markdown",
   "metadata": {},
   "source": [
    "Создайте одномерный массив c, составленный из последовательности 16-ти случайных\n",
    "равномерно распределенных целых чисел от 0 до 16 невключительно."
   ]
  },
  {
   "cell_type": "code",
   "execution_count": 15,
   "metadata": {},
   "outputs": [
    {
     "data": {
      "text/plain": [
       "array([ 2,  6, 10, 10,  7,  4,  3,  7,  7,  2,  5,  4,  1,  7, 11, 13])"
      ]
     },
     "execution_count": 15,
     "metadata": {},
     "output_type": "execute_result"
    }
   ],
   "source": [
    "c = np.random.randint(0, 16, size=16)\n",
    "c"
   ]
  },
  {
   "cell_type": "code",
   "execution_count": 16,
   "metadata": {},
   "outputs": [
    {
     "data": {
      "text/plain": [
       "array([[ 2,  6, 10, 10],\n",
       "       [ 7,  4,  3,  7],\n",
       "       [ 7,  2,  5,  4],\n",
       "       [ 1,  7, 11, 13]])"
      ]
     },
     "execution_count": 16,
     "metadata": {},
     "output_type": "execute_result"
    }
   ],
   "source": [
    "# Преобразуем c в квадратную матрицу C\n",
    "C = c.reshape((4, 4))  # 4 строки, 4 столбца\n",
    "C"
   ]
  },
  {
   "cell_type": "markdown",
   "metadata": {},
   "source": [
    "Получите матрицу D, поэлементно прибавив матрицу B из предыдущего вопроса к матрице C, умноженной на 10."
   ]
  },
  {
   "cell_type": "code",
   "execution_count": 17,
   "metadata": {},
   "outputs": [
    {
     "data": {
      "text/plain": [
       "array([[ 25,  74, 123, 132],\n",
       "       [ 84,  90, 116, 192],\n",
       "       [ 93, 106, 199, 252],\n",
       "       [ 42, 192, 322, 432]])"
      ]
     },
     "execution_count": 17,
     "metadata": {},
     "output_type": "execute_result"
    }
   ],
   "source": [
    "# Поэлементно умножаем C на 10\n",
    "C_multiplied = C * 10\n",
    "# Поэлементно складываем C_multiplied и B\n",
    "D = C_multiplied + B\n",
    "D"
   ]
  },
  {
   "cell_type": "markdown",
   "metadata": {},
   "source": [
    "Вычислите определитель, ранг и обратную матрицу D_inv для D."
   ]
  },
  {
   "cell_type": "code",
   "execution_count": 18,
   "metadata": {},
   "outputs": [
    {
     "name": "stdout",
     "output_type": "stream",
     "text": [
      "Определитель матрицы D: -25281600.000000034\n",
      "Ранг матрицы D: 4\n",
      "Обратная матрица D_inv:\n",
      "[[ 0.00188912  0.00544902  0.00906588 -0.00828745]\n",
      " [ 0.04419973  0.02648567 -0.03311183 -0.00596165]\n",
      " [ 0.01216062 -0.01919499  0.01614771 -0.00460414]\n",
      " [-0.02889216  0.0020062   0.00179894  0.00920195]]\n"
     ]
    }
   ],
   "source": [
    "# Вычисление определителя\n",
    "determinant = np.linalg.det(D)\n",
    "# Вычисление ранга\n",
    "rank = np.linalg.matrix_rank(D)\n",
    "# Вычисление обратной матрицы\n",
    "D_inv = np.linalg.inv(D)\n",
    "print(f\"Определитель матрицы D: {determinant}\")\n",
    "print(f\"Ранг матрицы D: {rank}\")\n",
    "print(f\"Обратная матрица D_inv:\\n{D_inv}\")"
   ]
  },
  {
   "cell_type": "markdown",
   "metadata": {},
   "source": [
    "Приравняйте к нулю отрицательные числа в матрице D_inv, а положительные - к единице.\n"
   ]
  },
  {
   "cell_type": "code",
   "execution_count": 19,
   "metadata": {},
   "outputs": [
    {
     "data": {
      "text/plain": [
       "array([[1, 1, 1, 0],\n",
       "       [1, 1, 0, 0],\n",
       "       [1, 0, 1, 0],\n",
       "       [0, 1, 1, 1]])"
      ]
     },
     "execution_count": 19,
     "metadata": {},
     "output_type": "execute_result"
    }
   ],
   "source": [
    "D_inv[D_inv < 0] = 0\n",
    "D_inv[D_inv > 0] = 1\n",
    "D_inv_int = np.round(D_inv).astype(int)  # Обновляем D_inv_int после изменения D_inv\n",
    "D_inv_int"
   ]
  },
  {
   "cell_type": "markdown",
   "metadata": {},
   "source": [
    "Убедитесь, что в матрице D_inv остались только нули и единицы"
   ]
  },
  {
   "cell_type": "code",
   "execution_count": 20,
   "metadata": {},
   "outputs": [
    {
     "name": "stdout",
     "output_type": "stream",
     "text": [
      "В матрице D_inv есть значения, отличные от нуля и единицы.\n"
     ]
    }
   ],
   "source": [
    "# Проверка с помощью модуля\n",
    "if np.all(np.mod(D_inv_int, 2) == 0):  # Проверяем, что остаток от деления на 2 равен 0 для всех элементов\n",
    "    print(\"В матрице D_inv остались только нули и единицы.\")\n",
    "else:\n",
    "    print(\"В матрице D_inv есть значения, отличные от нуля и единицы.\")\n"
   ]
  },
  {
   "cell_type": "markdown",
   "metadata": {},
   "source": [
    "С помощью функции\n",
    "numpy.where, используя матрицу D_inv в качестве маски, а матрицы B и C - в качестве\n",
    "источников данных, получите матрицу E размером 4x4. Элементы матрицы E, для которых\n",
    "соответствующий элемент матрицы D_inv равен 1, должны быть равны соответствующему\n",
    "элементу матрицы B, а элементы матрицы E, для которых соответствующий элемент матрицы\n",
    "D_inv равен 0, должны быть равны соответствующему элементу матрицы C"
   ]
  },
  {
   "cell_type": "code",
   "execution_count": 21,
   "metadata": {},
   "outputs": [
    {
     "data": {
      "text/plain": [
       "array([[  5,  14,  23,  10],\n",
       "       [ 14,  50,   3,   7],\n",
       "       [ 23,   2, 149,   4],\n",
       "       [  1, 122, 212, 302]])"
      ]
     },
     "execution_count": 21,
     "metadata": {},
     "output_type": "execute_result"
    }
   ],
   "source": [
    "# Используем np.where для создания матрицы E\n",
    "E = np.where(D_inv == 1, B, C)\n",
    "E"
   ]
  },
  {
   "cell_type": "code",
   "execution_count": null,
   "metadata": {},
   "outputs": [],
   "source": []
  }
 ],
 "metadata": {
  "kernelspec": {
   "display_name": "Python 3.8.10 64-bit",
   "language": "python",
   "name": "python3"
  },
  "language_info": {
   "codemirror_mode": {
    "name": "ipython",
    "version": 3
   },
   "file_extension": ".py",
   "mimetype": "text/x-python",
   "name": "python",
   "nbconvert_exporter": "python",
   "pygments_lexer": "ipython3",
   "version": "3.8.10"
  },
  "orig_nbformat": 4,
  "vscode": {
   "interpreter": {
    "hash": "570feb405e2e27c949193ac68f46852414290d515b0ba6e5d90d076ed2284471"
   }
  }
 },
 "nbformat": 4,
 "nbformat_minor": 2
}
